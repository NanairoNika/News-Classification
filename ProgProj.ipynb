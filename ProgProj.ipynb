{
 "cells": [
  {
   "cell_type": "code",
   "execution_count": 1,
   "metadata": {},
   "outputs": [
    {
     "name": "stderr",
     "output_type": "stream",
     "text": [
      "C:\\Users\\1255971\\Anaconda3\\lib\\site-packages\\smart_open\\ssh.py:34: UserWarning: paramiko missing, opening SSH/SCP/SFTP paths will be disabled.  `pip install paramiko` to suppress\n",
      "  warnings.warn('paramiko missing, opening SSH/SCP/SFTP paths will be disabled.  `pip install paramiko` to suppress')\n",
      "C:\\Users\\1255971\\Anaconda3\\lib\\site-packages\\gensim\\utils.py:1197: UserWarning: detected Windows; aliasing chunkize to chunkize_serial\n",
      "  warnings.warn(\"detected Windows; aliasing chunkize to chunkize_serial\")\n"
     ]
    }
   ],
   "source": [
    "import pandas as pd\n",
    "import matplotlib.pyplot as plt\n",
    "import seaborn as sns\n",
    "import numpy as np\n",
    "import itertools\n",
    "from collections import Counter, namedtuple\n",
    "from sklearn.metrics import precision_recall_curve\n",
    "\n",
    "\n",
    "import re\n",
    "import nltk\n",
    "from string import punctuation\n",
    "from nltk.corpus import stopwords\n",
    "from nltk.tokenize import word_tokenize\n",
    "import pymorphy2\n",
    "\n",
    "\n",
    "from sklearn.semi_supervised import LabelSpreading\n",
    "from sklearn.decomposition import TruncatedSVD\n",
    "from gensim.models import Doc2Vec, Word2Vec, KeyedVectors \n",
    "from sklearn.model_selection import train_test_split, GridSearchCV\n",
    "from sklearn.metrics import accuracy_score, f1_score, precision_score, recall_score, confusion_matrix\n",
    "from sklearn.pipeline import Pipeline\n",
    "from sklearn.feature_extraction.text import CountVectorizer, TfidfTransformer, TfidfVectorizer\n",
    "from sklearn.linear_model import SGDClassifier"
   ]
  },
  {
   "cell_type": "code",
   "execution_count": 2,
   "metadata": {},
   "outputs": [
    {
     "name": "stdout",
     "output_type": "stream",
     "text": [
      "200853\n",
      "28213\n"
     ]
    },
    {
     "data": {
      "text/html": [
       "<div>\n",
       "<style scoped>\n",
       "    .dataframe tbody tr th:only-of-type {\n",
       "        vertical-align: middle;\n",
       "    }\n",
       "\n",
       "    .dataframe tbody tr th {\n",
       "        vertical-align: top;\n",
       "    }\n",
       "\n",
       "    .dataframe thead th {\n",
       "        text-align: right;\n",
       "    }\n",
       "</style>\n",
       "<table border=\"1\" class=\"dataframe\">\n",
       "  <thead>\n",
       "    <tr style=\"text-align: right;\">\n",
       "      <th></th>\n",
       "      <th>authors</th>\n",
       "      <th>category</th>\n",
       "      <th>date</th>\n",
       "      <th>headline</th>\n",
       "      <th>link</th>\n",
       "      <th>short_description</th>\n",
       "      <th>conc</th>\n",
       "    </tr>\n",
       "  </thead>\n",
       "  <tbody>\n",
       "    <tr>\n",
       "      <th>0</th>\n",
       "      <td>Taylor Pittman</td>\n",
       "      <td>TRAVEL</td>\n",
       "      <td>2018-05-24</td>\n",
       "      <td>14 Ways To Make Family Road Trips Easier, From...</td>\n",
       "      <td>https://www.huffingtonpost.com/entry/family-ro...</td>\n",
       "      <td>Having waterproof covers on the seats is kind ...</td>\n",
       "      <td>14 Ways To Make Family Road Trips Easier, From...</td>\n",
       "    </tr>\n",
       "    <tr>\n",
       "      <th>1</th>\n",
       "      <td>Caroline Bologna</td>\n",
       "      <td>TRAVEL</td>\n",
       "      <td>2018-05-23</td>\n",
       "      <td>14 Trips To Take From New York City On A Long ...</td>\n",
       "      <td>https://www.huffingtonpost.com/entry/14-fun-lo...</td>\n",
       "      <td>Charming towns, relaxing beaches and top hikin...</td>\n",
       "      <td>14 Trips To Take From New York City On A Long ...</td>\n",
       "    </tr>\n",
       "    <tr>\n",
       "      <th>2</th>\n",
       "      <td>Ed Mazza</td>\n",
       "      <td>TRAVEL</td>\n",
       "      <td>2018-05-23</td>\n",
       "      <td>Disney Reveals Opening Seasons For 'Star Wars'...</td>\n",
       "      <td>https://www.huffingtonpost.com/entry/disney-st...</td>\n",
       "      <td>Star Wars: Galaxy's Edge will open at Disneyla...</td>\n",
       "      <td>Disney Reveals Opening Seasons For 'Star Wars'...</td>\n",
       "    </tr>\n",
       "    <tr>\n",
       "      <th>3</th>\n",
       "      <td>Brittany Nims</td>\n",
       "      <td>TRAVEL</td>\n",
       "      <td>2018-05-22</td>\n",
       "      <td>Lonely Planet's Top European Destinations Of 2...</td>\n",
       "      <td>https://www.huffingtonpost.com/entry/lonely-pl...</td>\n",
       "      <td>These underrated travel destinations in Europe...</td>\n",
       "      <td>Lonely Planet's Top European Destinations Of 2...</td>\n",
       "    </tr>\n",
       "    <tr>\n",
       "      <th>4</th>\n",
       "      <td>PureWow, Editorial Partner</td>\n",
       "      <td>TRAVEL</td>\n",
       "      <td>2018-05-21</td>\n",
       "      <td>8 Majestic Islands In Europe That Most Tourist...</td>\n",
       "      <td>https://www.huffingtonpost.com/entry/8-majesti...</td>\n",
       "      <td>If you’re dreaming about a romantic European g...</td>\n",
       "      <td>8 Majestic Islands In Europe That Most Tourist...</td>\n",
       "    </tr>\n",
       "  </tbody>\n",
       "</table>\n",
       "</div>"
      ],
      "text/plain": [
       "                      authors category       date  \\\n",
       "0              Taylor Pittman   TRAVEL 2018-05-24   \n",
       "1            Caroline Bologna   TRAVEL 2018-05-23   \n",
       "2                    Ed Mazza   TRAVEL 2018-05-23   \n",
       "3               Brittany Nims   TRAVEL 2018-05-22   \n",
       "4  PureWow, Editorial Partner   TRAVEL 2018-05-21   \n",
       "\n",
       "                                            headline  \\\n",
       "0  14 Ways To Make Family Road Trips Easier, From...   \n",
       "1  14 Trips To Take From New York City On A Long ...   \n",
       "2  Disney Reveals Opening Seasons For 'Star Wars'...   \n",
       "3  Lonely Planet's Top European Destinations Of 2...   \n",
       "4  8 Majestic Islands In Europe That Most Tourist...   \n",
       "\n",
       "                                                link  \\\n",
       "0  https://www.huffingtonpost.com/entry/family-ro...   \n",
       "1  https://www.huffingtonpost.com/entry/14-fun-lo...   \n",
       "2  https://www.huffingtonpost.com/entry/disney-st...   \n",
       "3  https://www.huffingtonpost.com/entry/lonely-pl...   \n",
       "4  https://www.huffingtonpost.com/entry/8-majesti...   \n",
       "\n",
       "                                   short_description  \\\n",
       "0  Having waterproof covers on the seats is kind ...   \n",
       "1  Charming towns, relaxing beaches and top hikin...   \n",
       "2  Star Wars: Galaxy's Edge will open at Disneyla...   \n",
       "3  These underrated travel destinations in Europe...   \n",
       "4  If you’re dreaming about a romantic European g...   \n",
       "\n",
       "                                                conc  \n",
       "0  14 Ways To Make Family Road Trips Easier, From...  \n",
       "1  14 Trips To Take From New York City On A Long ...  \n",
       "2  Disney Reveals Opening Seasons For 'Star Wars'...  \n",
       "3  Lonely Planet's Top European Destinations Of 2...  \n",
       "4  8 Majestic Islands In Europe That Most Tourist...  "
      ]
     },
     "execution_count": 2,
     "metadata": {},
     "output_type": "execute_result"
    }
   ],
   "source": [
    "data = pd.read_json('News.json', lines=True)\n",
    "print(data.shape[0])\n",
    "data['category'].unique()\n",
    "data = data.loc[data['category'].isin(['STYLE & BEAUTY','TRAVEL','PARENTING'])].reset_index(drop=True)\n",
    "print(data.shape[0])\n",
    "data['conc'] = data.headline.map(str) + \" \" + data.short_description\n",
    "data.head()"
   ]
  },
  {
   "cell_type": "code",
   "execution_count": 3,
   "metadata": {},
   "outputs": [
    {
     "data": {
      "image/png": "[encoded data removed]",
      "text/plain": [
       "<Figure size 1440x576 with 1 Axes>"
      ]
     },
     "metadata": {
      "needs_background": "light"
     },
     "output_type": "display_data"
    }
   ],
   "source": [
    "cnt_sents = data['category'].value_counts()\n",
    "plt.figure(figsize=(20,8))\n",
    "sns.barplot(cnt_sents.index, cnt_sents.values, alpha=1)\n",
    "plt.ylabel('Number of Instances', fontsize=12)\n",
    "plt.xlabel('Categories', fontsize=12)\n",
    "plt.show()"
   ]
  },
  {
   "cell_type": "code",
   "execution_count": 4,
   "metadata": {},
   "outputs": [],
   "source": [
    "def cleaning(text):\n",
    "    text = re.sub(r'[^\\w\\s]','',text)\n",
    "    tokenized = []\n",
    "    words = word_tokenize(text)\n",
    "    for word in words:\n",
    "        p = morph.parse(word)[0]\n",
    "        tokenized.append(p.normal_form)\n",
    "    tokenized = [token for token in tokenized if token not in stopWords\\\n",
    "                and token != \" \" \\\n",
    "                and token != \"—\" \\\n",
    "                and token != \"«\" \\\n",
    "                and token != \"»\" \\\n",
    "                and token != \"..\" \\\n",
    "                and token.strip() not in punctuation]\n",
    "    return tokenized"
   ]
  },
  {
   "cell_type": "code",
   "execution_count": null,
   "metadata": {},
   "outputs": [],
   "source": [
    "texts = data['conc']\n",
    "headl = data['headline']\n",
    "shd = data['short_description']\n",
    "labels = data['category']\n",
    "morph = pymorphy2.MorphAnalyzer()\n",
    "stopWords = stopwords.words('english')\n",
    "cleaned_texts = texts.apply(cleaning)\n",
    "cleaned_head = headl.apply(cleaning)\n",
    "cleaned_shd = shd.apply(cleaning)"
   ]
  },
  {
   "cell_type": "code",
   "execution_count": null,
   "metadata": {},
   "outputs": [],
   "source": [
    "head_train, head_test, shd_train, shd_test = train_test_split(cleaned_head, cleaned_shd, test_size=0.33, random_state=50)\n",
    "texts_train, texts_test, labels_train, labels_test = train_test_split(cleaned_texts, labels, test_size=0.33, random_state=50)\n"
   ]
  },
  {
   "cell_type": "code",
   "execution_count": null,
   "metadata": {},
   "outputs": [],
   "source": [
    "def counting (df):\n",
    "    words = []\n",
    "    dflist = df.tolist()\n",
    "    for text in dflist:\n",
    "        for word in text:\n",
    "            words.append(word)\n",
    "    fivemc = Counter(words).most_common(20)\n",
    "    return fivemc\n",
    "trav = data[lambda x: x['category'] == 'TRAVEL']\n",
    "trav = trav['headline'].apply(cleaning)\n",
    "mctrav = counting(trav)\n",
    "style = data[lambda x: x['category'] == 'STYLE & BEAUTY']\n",
    "style = style['headline'].apply(cleaning)\n",
    "mcstyle = counting(style)\n",
    "par = data[lambda x: x['category'] == 'PARENTING']\n",
    "par = par['headline'].apply(cleaning)\n",
    "mcpar = counting(par)"
   ]
  },
  {
   "cell_type": "code",
   "execution_count": null,
   "metadata": {},
   "outputs": [],
   "source": [
    "print('Самые частотные слова раздела travel: ', mctrav)\n",
    "print('Самые частотные слова раздела style and beauty: ', mcstyle)\n",
    "print('Самые частотные слова раздела parenting: ', mcpar)"
   ]
  },
  {
   "cell_type": "code",
   "execution_count": null,
   "metadata": {},
   "outputs": [],
   "source": [
    "def classifier (text):\n",
    "    travrules = [\"travel\", \"best\", \"world\", \"city\", \"hotel\", \"trip\", \"hotels\", \"vacation\"]\n",
    "    stylerules = [\"style\", \"fashion\", \"look\", \"dress\", \"check\", \"beauty\", \"hair\", \"pinterest\"]\n",
    "    parrules = [\"kids\", \"children\", \"parents\", \"child\", \"baby\", \"mom\", \"family\", \"parenting\"]\n",
    "    for word in text:\n",
    "        if word in travrules:\n",
    "            return 'TRAVEL'\n",
    "        elif word in stylerules:\n",
    "            return 'STYLE & BEAUTY'\n",
    "        elif word in parrules:\n",
    "            return 'PARENTING'\n",
    "    return 'unclassified'\n",
    "\n",
    "pred = cleaned_texts.apply(classifier)\n",
    "\n"
   ]
  },
  {
   "cell_type": "code",
   "execution_count": null,
   "metadata": {},
   "outputs": [],
   "source": [
    "len(pred)"
   ]
  },
  {
   "cell_type": "code",
   "execution_count": null,
   "metadata": {},
   "outputs": [],
   "source": [
    "z=0\n",
    "for i in pred:\n",
    "    if i == 'unclassified':\n",
    "        z+=1\n",
    "z"
   ]
  },
  {
   "cell_type": "code",
   "execution_count": null,
   "metadata": {
    "scrolled": true
   },
   "outputs": [],
   "source": [
    "print(\"Accuracy: \", accuracy_score(labels, pred))\n",
    "print('Precision: ', precision_score(labels, pred, average =\"macro\"))\n",
    "print(\"Recall: \", recall_score(labels, pred, average=\"macro\"))"
   ]
  },
  {
   "cell_type": "code",
   "execution_count": null,
   "metadata": {},
   "outputs": [],
   "source": [
    "numlab =[]\n",
    "for i in pred:\n",
    "    if i == 'unclassified':\n",
    "        numlab.append(-1)\n",
    "    if i == 'PARENTING':\n",
    "        numlab.append(1)\n",
    "    if i == 'STYLE & BEAUTY':\n",
    "        numlab.append(2)\n",
    "    if i == 'TRAVEL':\n",
    "        numlab.append(3)"
   ]
  },
  {
   "cell_type": "code",
   "execution_count": null,
   "metadata": {},
   "outputs": [],
   "source": [
    "docs = shaping([list(set_) for set_ in cleaned_texts.tolist()])\n",
    "d2vmodel = Doc2Vec(docs, vector_size = 100, window = 300, min_count = 2, workers = 6)\n",
    "d2v =[]\n",
    "for i in range(0,28213):\n",
    "    d2v.append(d2vmodel[i])\n",
    "labeled_spr = LabelSpreading(kernel='knn')\n",
    "labelsenttest = labeled_spr.fit(d2v, numlab)\n",
    "labelstest = labelsenttest.transduction_"
   ]
  },
  {
   "cell_type": "code",
   "execution_count": null,
   "metadata": {},
   "outputs": [],
   "source": [
    "semisuperlabels = []\n",
    "for i in labelstest:\n",
    "    if i == 1:\n",
    "        semisuperlabels.append('PARENTING')\n",
    "    if i == 2:\n",
    "        semisuperlabels.append('STYLE & BEAUTY')\n",
    "    if i == 3:\n",
    "        semisuperlabels.append('TRAVEL')"
   ]
  },
  {
   "cell_type": "code",
   "execution_count": null,
   "metadata": {},
   "outputs": [],
   "source": [
    "print(\"Accuracy: \", accuracy_score(labels, semisuperlabels))\n",
    "print('Точность: ', precision_score(labels, semisuperlabels, average =\"macro\"))\n",
    "print(\"Полнота: \", recall_score(labels, semisuperlabels, average=\"macro\"))\n",
    "print(\"F-мера: \", f1_score(labels, semisuperlabels, average=\"macro\"))\n",
    "cm = confusion_matrix(labels, semisuperlabels)\n",
    "plot_confusion_matrix(cm, target_names=['TRAVEL', 'STYLE & BEAUTY', 'PARENTING'],\n",
    "                      title='Confusion matrix of semisupervised learning based on rules')\n",
    "plt.show()"
   ]
  },
  {
   "cell_type": "code",
   "execution_count": null,
   "metadata": {},
   "outputs": [],
   "source": [
    "tetr = [' '.join(list(set_)) for set_ in texts_train.tolist()]\n",
    "labtr = labels_train.tolist()\n",
    "tete = [' '.join(list(set_)) for set_ in texts_test.tolist()]\n",
    "textclass = Pipeline([\n",
    "    ('vect', CountVectorizer()), \n",
    "    ('tfidf', TfidfTransformer()), \n",
    "    ('clf', SGDClassifier(n_iter_no_change=5, random_state=50)),\n",
    "])\n",
    "textclass.fit(tetr, labtr)\n",
    "predclassestexts = textclass.predict(tete)"
   ]
  },
  {
   "cell_type": "code",
   "execution_count": null,
   "metadata": {},
   "outputs": [],
   "source": [
    "hdtr = [' '.join(list(set_)) for set_ in head_train.tolist()]\n",
    "hdte = [' '.join(list(set_)) for set_ in head_test.tolist()]\n",
    "headclass = Pipeline([\n",
    "    ('vect', CountVectorizer()), \n",
    "    ('tfidf', TfidfTransformer()), \n",
    "    ('clf', SGDClassifier(n_iter_no_change=5, random_state=50)),\n",
    "])\n",
    "headclass.fit(hdtr, labtr)\n",
    "predclasseshead = textclass.predict(hdte)"
   ]
  },
  {
   "cell_type": "code",
   "execution_count": null,
   "metadata": {},
   "outputs": [],
   "source": [
    "shdtr = [' '.join(list(set_)) for set_ in shd_train.tolist()]\n",
    "shdte = [' '.join(list(set_)) for set_ in shd_test.tolist()]\n",
    "shdclass = Pipeline([\n",
    "    ('vect', CountVectorizer()), \n",
    "    ('tfidf', TfidfTransformer()), \n",
    "    ('clf', SGDClassifier(n_iter_no_change=5, random_state=50)),\n",
    "])\n",
    "shdclass.fit(shdtr, labtr)\n",
    "predclassesshd = textclass.predict(shdte)"
   ]
  },
  {
   "cell_type": "code",
   "execution_count": null,
   "metadata": {},
   "outputs": [],
   "source": [
    "def plot_confusion_matrix(cm, target_names,title='Confusion matrix', cmap=None, normalize=True):   \n",
    "    accuracy = np.trace(cm) / float(np.sum(cm))\n",
    "    misclass = 1 - accuracy\n",
    "    if cmap is None:\n",
    "        cmap = plt.get_cmap('Blues')\n",
    "    plt.figure(figsize=(8, 6))\n",
    "    plt.imshow(cm, interpolation='nearest', cmap=cmap)\n",
    "    plt.title(title)\n",
    "    plt.colorbar()\n",
    "    if target_names is not None:\n",
    "        tick_marks = np.arange(len(target_names))\n",
    "        plt.xticks(tick_marks, target_names, rotation=45)\n",
    "        plt.yticks(tick_marks, target_names)\n",
    "    if normalize:\n",
    "        cm = cm.astype('float') / cm.sum(axis=1)[:, np.newaxis]\n",
    "    thresh = cm.max() / 1.5 if normalize else cm.max() / 2\n",
    "    for i, j in itertools.product(range(cm.shape[0]), range(cm.shape[1])):\n",
    "        if normalize:\n",
    "            plt.text(j, i, \"{:0.4f}\".format(cm[i, j]),\n",
    "                     horizontalalignment=\"center\",\n",
    "                     color=\"white\" if cm[i, j] > thresh else \"black\")\n",
    "        else:\n",
    "            plt.text(j, i, \"{:,}\".format(cm[i, j]),\n",
    "                     horizontalalignment=\"center\",\n",
    "                     color=\"white\" if cm[i, j] > thresh else \"black\")\n",
    "\n",
    "\n",
    "    plt.tight_layout()\n",
    "    plt.ylabel('True label')\n",
    "    plt.xlabel('Predicted label\\naccuracy={:0.4f}; misclass={:0.4f}'.format(accuracy, misclass))\n",
    "    plt.show()"
   ]
  },
  {
   "cell_type": "code",
   "execution_count": null,
   "metadata": {
    "scrolled": false
   },
   "outputs": [],
   "source": [
    "print(\"Accuracy: \", accuracy_score(labels_test, predclassestexts))\n",
    "print('Точность: ', precision_score(labels_test, predclassestexts, average =\"macro\"))\n",
    "print(\"Полнота: \", recall_score(labels_test, predclassestexts, average=\"macro\"))\n",
    "print(\"F-мера: \", f1_score(labels_test, predclassestexts, average=\"macro\"))\n",
    "cm = confusion_matrix(labels_test, predclassestexts)\n",
    "plot_confusion_matrix(cm, target_names=['TRAVEL', 'STYLE & BEAUTY', 'PARENTING'],\n",
    "                      title='Confusion matrix of SGDClassifier with concatenated data')\n",
    "plt.show()"
   ]
  },
  {
   "cell_type": "code",
   "execution_count": null,
   "metadata": {},
   "outputs": [],
   "source": [
    "print(\"Accuracy: \", accuracy_score(labels_test, predclasseshead))\n",
    "print('Точность: ', precision_score(labels_test, predclasseshead, average =\"macro\"))\n",
    "print(\"Полнота: \", recall_score(labels_test, predclasseshead, average=\"macro\"))\n",
    "print(\"F-мера: \", f1_score(labels_test, predclasseshead, average=\"macro\"))\n",
    "cm = confusion_matrix(labels_test, predclasseshead)\n",
    "plot_confusion_matrix(cm, target_names=['TRAVEL', 'STYLE & BEAUTY', 'PARENTING'],\n",
    "                      title='Confusion matrix of SGDClassifier with only headers')\n",
    "plt.show()"
   ]
  },
  {
   "cell_type": "code",
   "execution_count": null,
   "metadata": {},
   "outputs": [],
   "source": [
    "print(\"Accuracy: \", accuracy_score(labels_test, predclassesshd))\n",
    "print('Точность: ', precision_score(labels_test, predclassesshd, average =\"macro\"))\n",
    "print(\"Полнота: \", recall_score(labels_test, predclassesshd, average=\"macro\"))\n",
    "print(\"F-мера: \", f1_score(labels_test, predclassesshd, average=\"macro\"))\n",
    "cm = confusion_matrix(labels_test, predclassesshd)\n",
    "plot_confusion_matrix(cm, target_names=['TRAVEL', 'STYLE & BEAUTY', 'PARENTING'],\n",
    "                      title='Confusion matrix of SGDClassifier with only short desc')\n",
    "plt.show()"
   ]
  },
  {
   "cell_type": "code",
   "execution_count": null,
   "metadata": {},
   "outputs": [],
   "source": [
    "textclassdec = Pipeline([\n",
    "    ('vect', CountVectorizer()), \n",
    "    ('tfidf', TfidfTransformer()),\n",
    "    ('svd', TruncatedSVD(n_components = 3000)),\n",
    "    ('clf', SGDClassifier(n_iter_no_change=5, random_state=179)),\n",
    "])\n"
   ]
  },
  {
   "cell_type": "code",
   "execution_count": null,
   "metadata": {},
   "outputs": [],
   "source": [
    "textclassdec.fit(tetr, labtr)\n",
    "predclassesdec = textclassdec.predict(tete)\n",
    "\n",
    "print('Точность: ', precision_score(labels_test, predclassesdec, average =\"macro\"))\n",
    "print(\"Полнота: \", recall_score(labels_test, predclassesdec, average=\"macro\"))\n",
    "print(\"F-мера: \", f1_score(labels_test, predclassesdec, average=\"macro\"))\n",
    "print(\"Accuracy: \", accuracy_score(labels_test, predclassesdec)) \n",
    "cm = confusion_matrix(labels_test, predclassesdec)\n",
    "plot_confusion_matrix(cm, target_names=['TRAVEL', 'STYLE & BEAUTY', 'PARENTING'],\n",
    "                      title='Confusion matrix of SGDClassifier Rescaled')\n",
    "plt.show()"
   ]
  },
  {
   "cell_type": "code",
   "execution_count": null,
   "metadata": {},
   "outputs": [],
   "source": [
    "def shaping (rev):\n",
    "    shapeddata = []\n",
    "    analyzedDocument = namedtuple('AnalyzedDocument', 'words tags')\n",
    "    for i, text in enumerate(rev):\n",
    "        tags = [i]\n",
    "        shapeddata.append(analyzedDocument(text, tags))\n",
    "    return shapeddata"
   ]
  },
  {
   "cell_type": "code",
   "execution_count": null,
   "metadata": {},
   "outputs": [],
   "source": [
    "shapedtraintexts = shaping([list(set_) for set_ in texts_train.tolist()])\n",
    "d2vtr = Doc2Vec(shapedtraintexts, vector_size = 100, window = 300, min_count = 2, workers = 6)\n",
    "d2vtrain =[]\n",
    "for i in range(0,18902):\n",
    "    d2vtrain.append(d2vtr[i])\n",
    "\n",
    "shapedtesttexts = shaping([list(set_) for set_ in texts_test.tolist()])\n",
    "d2vte = Doc2Vec(shapedtesttexts, vector_size = 100, window = 300, min_count = 2, workers = 6)\n",
    "d2vtest =[]\n",
    "for i in range(0,9311):\n",
    "    d2vtest.append(d2vte[i])\n",
    "    \n",
    "trainclasses = labels_train.tolist()\n",
    "testclasses = labels_test.tolist()"
   ]
  },
  {
   "cell_type": "code",
   "execution_count": null,
   "metadata": {},
   "outputs": [],
   "source": [
    "clf = SGDClassifier(n_iter_no_change=5, random_state=179)\n",
    "clf.fit(d2vtrain, trainclasses)\n",
    "predcl = clf.predict(d2vtest)"
   ]
  },
  {
   "cell_type": "code",
   "execution_count": null,
   "metadata": {},
   "outputs": [],
   "source": [
    "print('Точность: ', precision_score(testclasses, predcl, average =\"macro\"))\n",
    "print(\"Полнота: \", recall_score(testclasses, predcl, average=\"macro\"))\n",
    "print(\"F-мера: \", f1_score(testclasses, predcl, average=\"macro\"))\n",
    "print(\"Accuracy: \", accuracy_score(testclasses, predcl))\n",
    "cm_2 = confusion_matrix(testclasses, predcl)\n",
    "plot_confusion_matrix(cm_2, target_names=['TRAVEL', 'STYLE & BEAUTY', 'PARENTING'],\n",
    "                      title='Confusion matrix of SGDClassifier + D2V')\n",
    "plt.show()"
   ]
  },
  {
   "cell_type": "code",
   "execution_count": null,
   "metadata": {},
   "outputs": [],
   "source": []
  }
 ],
 "metadata": {
  "kernelspec": {
   "display_name": "Python 3",
   "language": "python",
   "name": "python3"
  },
  "language_info": {
   "codemirror_mode": {
    "name": "ipython",
    "version": 3
   },
   "file_extension": ".py",
   "mimetype": "text/x-python",
   "name": "python",
   "nbconvert_exporter": "python",
   "pygments_lexer": "ipython3",
   "version": "3.7.3"
  }
 },
 "nbformat": 4,
 "nbformat_minor": 2
}
